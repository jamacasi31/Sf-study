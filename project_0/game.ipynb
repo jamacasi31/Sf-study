{
 "cells": [
  {
   "attachments": {},
   "cell_type": "markdown",
   "metadata": {},
   "source": [
    "# Игра: Угадай число"
   ]
  },
  {
   "attachments": {},
   "cell_type": "markdown",
   "metadata": {},
   "source": [
    "## Алгоритм должен угадать число в пределах 20 попыток"
   ]
  },
  {
   "cell_type": "code",
   "execution_count": 3,
   "metadata": {},
   "outputs": [
    {
     "name": "stdout",
     "output_type": "stream",
     "text": [
      "Ваш алгоритм угадывает число в среднем за: 8 попыток\n"
     ]
    },
    {
     "data": {
      "text/plain": [
       "8"
      ]
     },
     "execution_count": 3,
     "metadata": {},
     "output_type": "execute_result"
    }
   ],
   "source": [
    "'''Игра: Угадай число\n",
    "Компьютер сам загадывает и отгадывает число\n",
    "Необходимо найти число меньше чем за 20 попыток\n",
    "'''\n",
    "\n",
    "import numpy as np\n",
    "\n",
    "def random_predict(number:int=1) -> int:\n",
    "    \"\"\"Рандомно угадываем число\n",
    "\n",
    "    Args:\n",
    "        number (int, optional): загаданное число. Defaults to 1.\n",
    "\n",
    "    Returns:\n",
    "        int: число попыток\n",
    "    \"\"\"\n",
    "    \n",
    "    count = 0\n",
    "    \n",
    "    # Именуем аргуметы предполагаемого числа для дальнейшего изменения\n",
    "    a = 1\n",
    "    b = 101\n",
    "    predict_number = np.random.randint(a,b) #Предополагаемое число\n",
    "    \n",
    "    while True:\n",
    "        count += 1\n",
    "        if number == predict_number:\n",
    "            break\n",
    "        elif number < predict_number:\n",
    "            b = predict_number\n",
    "            predict_number = np.random.randint(a, b)\n",
    "        elif number > predict_number:\n",
    "            a = predict_number\n",
    "            predict_number = np.random.randint(a,b)\n",
    "            \n",
    "        \n",
    "    return(count)\n",
    "\n",
    "def score_game(random_predict) -> int:\n",
    "    \"\"\"За какое кол-во попыток в среднем угадывает наш подход\n",
    "\n",
    "    Args:\n",
    "        random_predict (_type_): функция угадывания\n",
    "\n",
    "    Returns:\n",
    "        int: среднее количество попыток\n",
    "    \"\"\"\n",
    "    count_ls = []\n",
    "    np.random.seed(1) #фиксируем сид для производимости\n",
    "    random_array = np.random.randint(1, 101, size=1000) #загадали список чисел\n",
    "    \n",
    "    for number in random_array:\n",
    "        count_ls.append(random_predict(number))\n",
    "        \n",
    "    score = int(np.mean(count_ls))\n",
    "    print(f'Ваш алгоритм угадывает число в среднем за: {score} попыток')\n",
    "    return score\n",
    "\n",
    "score_game(random_predict) #RUN\n"
   ]
  }
 ],
 "metadata": {
  "kernelspec": {
   "display_name": "Python 3",
   "language": "python",
   "name": "python3"
  },
  "language_info": {
   "codemirror_mode": {
    "name": "ipython",
    "version": 3
   },
   "file_extension": ".py",
   "mimetype": "text/x-python",
   "name": "python",
   "nbconvert_exporter": "python",
   "pygments_lexer": "ipython3",
   "version": "3.9.10"
  },
  "orig_nbformat": 4
 },
 "nbformat": 4,
 "nbformat_minor": 2
}
